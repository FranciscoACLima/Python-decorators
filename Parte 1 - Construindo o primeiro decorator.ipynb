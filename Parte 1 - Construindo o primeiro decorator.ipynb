{
 "cells": [
  {
   "cell_type": "markdown",
   "metadata": {},
   "source": [
    "## Decorators\n",
    "**Decorators** são invólucros para funções, métodos ou classes que alteram dinamicamente suas funcionalidades sem ter que alterar seu código fonte. Para entender o uso dos @ decoradores em Python, precisamos saber que em Python tudo é objeto e uma função não é uma exceção.\n",
    "\n",
    "Vejamos, por exemplo, as funções abaixo e como elas se comportam."
   ]
  },
  {
   "cell_type": "code",
   "execution_count": 1,
   "metadata": {},
   "outputs": [
    {
     "name": "stdout",
     "output_type": "stream",
     "text": [
      "Olá José\n"
     ]
    }
   ],
   "source": [
    "# uma função pode ser atribuída a uma variável\n",
    "def cumprimentar(nome):\n",
    "    return \"Olá \" + nome\n",
    "\n",
    "cumprimentar_alguem = cumprimentar\n",
    "print(cumprimentar_alguem(\"José\"))"
   ]
  },
  {
   "cell_type": "code",
   "execution_count": 2,
   "metadata": {},
   "outputs": [
    {
     "name": "stdout",
     "output_type": "stream",
     "text": [
      "Olá José\n"
     ]
    }
   ],
   "source": [
    "# uma função pode ser criada dentro de outra\n",
    "def cumprimentar(nome):\n",
    "    def get_mensagem():\n",
    "        return \"Olá \"\n",
    "\n",
    "    result = get_mensagem() + nome\n",
    "    return result\n",
    "\n",
    "print(cumprimentar(\"José\"))\n"
   ]
  },
  {
   "cell_type": "code",
   "execution_count": 3,
   "metadata": {},
   "outputs": [
    {
     "name": "stdout",
     "output_type": "stream",
     "text": [
      "Olá José\n"
     ]
    }
   ],
   "source": [
    "# uma função pode ser parâmetro de outra função\n",
    "def cumprimentar(nome):\n",
    "    return \"Olá \" + nome\n",
    "\n",
    "def testar_funcao(func):\n",
    "    nome = 'José'\n",
    "    return func(nome)\n",
    "    \n",
    "\n",
    "print(testar_funcao(cumprimentar))"
   ]
  },
  {
   "cell_type": "code",
   "execution_count": 4,
   "metadata": {},
   "outputs": [
    {
     "name": "stdout",
     "output_type": "stream",
     "text": [
      "Olá!\n"
     ]
    }
   ],
   "source": [
    "# uma função pode retornar outra função\n",
    "def compor_cumprimento():\n",
    "    def get_mensagem():\n",
    "        return \"Olá!\"\n",
    "    return get_mensagem\n",
    "\n",
    "cumprimentar = compor_cumprimento()\n",
    "print(cumprimentar())"
   ]
  },
  {
   "cell_type": "code",
   "execution_count": 5,
   "metadata": {},
   "outputs": [
    {
     "name": "stdout",
     "output_type": "stream",
     "text": [
      "Olá José!\n"
     ]
    }
   ],
   "source": [
    "# usando o atributo do escopo superior dentro de um escopo abaixo\n",
    "# get_mensagem usa o parâmento nome passado por\n",
    "# compor_cumprimento()\n",
    "def compor_cumprimento(nome):\n",
    "    def get_mensagem():\n",
    "        return \"Olá \" + nome + \"!\"\n",
    "    return get_mensagem\n",
    "\n",
    "cumprimentar = compor_cumprimento(\"José\")\n",
    "print(cumprimentar())"
   ]
  },
  {
   "cell_type": "code",
   "execution_count": 6,
   "metadata": {},
   "outputs": [
    {
     "name": "stdout",
     "output_type": "stream",
     "text": [
      "Olá José, seja bem vindo ao nosso site!\n",
      "<p>Olá José, seja bem vindo ao nosso site!</p>\n"
     ]
    }
   ],
   "source": [
    "# usando as ideias acima podemos criar nosso primeiro decorador\n",
    "# a função bem_vindo() será ampliada colocando o texto\n",
    "# retornado numa tag html p\n",
    "\n",
    "def bem_vindo(nome):\n",
    "    return \"Olá {}, seja bem vindo ao nosso site!\".format(nome)\n",
    "\n",
    "print(bem_vindo('José'))\n",
    "\n",
    "def p_decorate(func):\n",
    "    def func_modificada(nome):\n",
    "        return \"<p>{}</p>\".format(func(nome))\n",
    "    return func_modificada\n",
    "\n",
    "my_bem_vindo = p_decorate(bem_vindo)\n",
    "\n",
    "print(my_bem_vindo(\"José\"))\n"
   ]
  },
  {
   "cell_type": "code",
   "execution_count": 7,
   "metadata": {},
   "outputs": [
    {
     "name": "stdout",
     "output_type": "stream",
     "text": [
      "#   bem_vindo() original  #\n",
      "Olá José, seja bem vindo ao nosso site!\n",
      "\n",
      "#   bem_vindo() modificado com p_decorate()   #\n",
      "<p>Olá José, seja bem vindo ao nosso site!</p>\n"
     ]
    }
   ],
   "source": [
    "# para usar a função bem_vindo() alterada com o decorador\n",
    "# podemos redefini-la passando-a dentro do próprio decorador\n",
    "def bem_vindo(nome):\n",
    "    return \"Olá {}, seja bem vindo ao nosso site!\".format(nome)\n",
    "\n",
    "print('#   bem_vindo() original  #')\n",
    "print(bem_vindo('José'))\n",
    "\n",
    "print('\\n#   bem_vindo() modificado com p_decorate()   #')\n",
    "bem_vindo = p_decorate(bem_vindo)\n",
    "print(bem_vindo('José'))\n"
   ]
  },
  {
   "cell_type": "code",
   "execution_count": 8,
   "metadata": {},
   "outputs": [
    {
     "name": "stdout",
     "output_type": "stream",
     "text": [
      "<p>Olá José, seja bem vindo ao nosso site!</p>\n"
     ]
    }
   ],
   "source": [
    "# usando a sintaxe decorator do Python, podemos obter o mesmo\n",
    "# resultado de uma forma mais elegante\n",
    "def p_decorador(func):\n",
    "    def func_modificada(nome):\n",
    "        return \"<p>{}</p>\".format(func(nome))\n",
    "    return func_modificada\n",
    "\n",
    "@p_decorador\n",
    "def bem_vindo(nome):\n",
    "    return \"Olá {}, seja bem vindo ao nosso site!\".format(nome)\n",
    "\n",
    "print(bem_vindo('José'))"
   ]
  },
  {
   "cell_type": "code",
   "execution_count": null,
   "metadata": {},
   "outputs": [],
   "source": []
  }
 ],
 "metadata": {
  "kernelspec": {
   "display_name": "Python 3",
   "language": "python",
   "name": "python3"
  },
  "language_info": {
   "codemirror_mode": {
    "name": "ipython",
    "version": 3
   },
   "file_extension": ".py",
   "mimetype": "text/x-python",
   "name": "python",
   "nbconvert_exporter": "python",
   "pygments_lexer": "ipython3",
   "version": "3.6.3"
  }
 },
 "nbformat": 4,
 "nbformat_minor": 2
}
