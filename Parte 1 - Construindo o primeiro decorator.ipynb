{
 "cells": [
  {
   "cell_type": "markdown",
   "metadata": {},
   "source": [
    "## Decorators em Python - Parte 1\n",
    "\n",
    "\n",
    "Python é rico em recursos poderosos. Um dos mais interessantes são os decoradores (decorators). No contexto dos padrões de design, decoradores alteram dinamicamente a funcionalidade de uma função, método ou classe sem ter que usar diretamente subclasses. Isso é ideal quando você precisa ampliar a funcionalidade de uma função que não deseja modificar. Podemos implementar o padrão decorator em qualquer lugar, mas Python facilita sua implementação fornecendo uma sintaxe expressiva para isso: **@**.\n",
    "\n",
    "Essencialmente, os decoradores funcionam como wrappers, modificando o comportamento do código antes e depois da execução de uma função alvo, sem a necessidade de modificar a própria função, aumentando a funcionalidade original, decorando-a.\n",
    "\n",
    "Mas antes de mergulhar no assunto de **@decorators**, alguns pontos devem ser explicados. Em Python, funções são cidadãos de primeira classe, são objetos e isso significa que podemos fazer muitas coisas úteis com elas.\n",
    "\n",
    "Vejamos, por exemplo, as funções abaixo e como elas se comportam."
   ]
  },
  {
   "cell_type": "markdown",
   "metadata": {},
   "source": [
    "### Uma função pode ser atribuída a uma variável #"
   ]
  },
  {
   "cell_type": "code",
   "execution_count": 1,
   "metadata": {},
   "outputs": [
    {
     "name": "stdout",
     "output_type": "stream",
     "text": [
      "Olá Francisco\n"
     ]
    }
   ],
   "source": [
    "def cumprimentar(nome):\n",
    "    return \"Olá \" + nome\n",
    "\n",
    "cumprimentar_alguem = cumprimentar\n",
    "print(cumprimentar_alguem(\"Francisco\"))"
   ]
  },
  {
   "cell_type": "markdown",
   "metadata": {},
   "source": [
    "### Uma função pode ser criada dentro de outra#"
   ]
  },
  {
   "cell_type": "code",
   "execution_count": 2,
   "metadata": {},
   "outputs": [
    {
     "name": "stdout",
     "output_type": "stream",
     "text": [
      "Olá Francisco\n"
     ]
    }
   ],
   "source": [
    "def cumprimentar(nome):\n",
    "    def get_mensagem():\n",
    "        return \"Olá \"\n",
    "    result = get_mensagem() + nome\n",
    "    return result\n",
    "\n",
    "print(cumprimentar(\"Francisco\"))\n"
   ]
  },
  {
   "cell_type": "markdown",
   "metadata": {},
   "source": [
    "### Uma função pode ser passada como parâmetros para outra função #"
   ]
  },
  {
   "cell_type": "code",
   "execution_count": 3,
   "metadata": {},
   "outputs": [
    {
     "name": "stdout",
     "output_type": "stream",
     "text": [
      "Olá Francisco\n"
     ]
    }
   ],
   "source": [
    "def cumprimentar(nome):\n",
    "    return \"Olá \" + nome\n",
    "\n",
    "def testar_funcao(func):\n",
    "    nome = 'Francisco'\n",
    "    return func(nome)\n",
    "\n",
    "print(testar_funcao(cumprimentar))"
   ]
  },
  {
   "cell_type": "markdown",
   "metadata": {},
   "source": [
    "### Uma função pode retornar outra função #\n",
    "\n",
    "Em outras palavras, funções podem gerar outras funções."
   ]
  },
  {
   "cell_type": "code",
   "execution_count": 4,
   "metadata": {},
   "outputs": [
    {
     "name": "stdout",
     "output_type": "stream",
     "text": [
      "Olá! Tudo bem?\n"
     ]
    }
   ],
   "source": [
    "def compor_cumprimento():\n",
    "    def get_mensagem():\n",
    "        return \"Olá! Tudo bem?\"\n",
    "    return get_mensagem\n",
    "\n",
    "cumprimentar = compor_cumprimento()\n",
    "print(cumprimentar())"
   ]
  },
  {
   "cell_type": "markdown",
   "metadata": {},
   "source": [
    "### Uma função interna tem acesso a atributos da função envolvente#\n",
    "\n",
    "Uma função interna pode usar atributos da função externa, a função de escopo superior. Assim, mudamos a função get_mensagem() para receber o parâmetro ``nome`` recebido pela função compor_cumprimento(), retornando get_mensagem()."
   ]
  },
  {
   "cell_type": "code",
   "execution_count": 5,
   "metadata": {},
   "outputs": [
    {
     "name": "stdout",
     "output_type": "stream",
     "text": [
      "Olá Francisco! Tudo bem?\n"
     ]
    }
   ],
   "source": [
    "def compor_cumprimento(nome):\n",
    "    def get_mensagem():\n",
    "        return \"Olá \" + nome + \"! Tudo bem?\"\n",
    "    return get_mensagem\n",
    "\n",
    "cumprimentar = compor_cumprimento(\"Francisco\")\n",
    "print(cumprimentar())"
   ]
  },
  {
   "cell_type": "markdown",
   "metadata": {},
   "source": [
    "Quando, como no exemplo acima, estão presentes os itens abaixo:\n",
    "\n",
    "* uma função aninhada (função dentro de uma função)\n",
    "* a função aninhada usando um valor definido na função de inclusão\n",
    "* a função de inclusão retornar a função interna, aninhada\n",
    "\n",
    "Temos o que chamamos de closure, encerramento, (https://www.programiz.com/python-programming/closure). Um padrão muito encontrado durante a construção de decoradores.\n",
    "\n",
    "Outro ponto é que Python só permite o acesso de leitura ao escopo externo e não atribuição. A não ser que isso seja declarado de forma explícita usando a palavra chave nonlocal (https://www.programiz.com/python-programming/keyword-list#nonlocal).\n"
   ]
  },
  {
   "cell_type": "markdown",
   "metadata": {},
   "source": [
    "### Compondo nosso primeiro decorador #\n",
    "\n",
    "Usando as ideias acima podemos criar nosso primeiro decorador. Vamos usar uma função que retorna uma frase de bem_vindo() e ampliá-la colocando esse texto numa tag html **p **"
   ]
  },
  {
   "cell_type": "code",
   "execution_count": 6,
   "metadata": {},
   "outputs": [
    {
     "name": "stdout",
     "output_type": "stream",
     "text": [
      "Olá Francisco, seja bem vindo ao nosso site!\n"
     ]
    }
   ],
   "source": [
    "def bem_vindo(nome):\n",
    "    return \"Olá {}, seja bem vindo ao nosso site!\".format(nome)\n",
    "\n",
    "print(bem_vindo('Francisco'))"
   ]
  },
  {
   "cell_type": "code",
   "execution_count": 7,
   "metadata": {},
   "outputs": [
    {
     "name": "stdout",
     "output_type": "stream",
     "text": [
      "<p>Olá Francisco, seja bem vindo ao nosso site!</p>\n"
     ]
    }
   ],
   "source": [
    "def p_decorate(func):\n",
    "    def func_modificada(nome):\n",
    "        return \"<p>{}</p>\".format(func(nome))\n",
    "    return func_modificada\n",
    "\n",
    "my_bem_vindo = p_decorate(bem_vindo)\n",
    "\n",
    "print(my_bem_vindo(\"Francisco\"))"
   ]
  },
  {
   "cell_type": "markdown",
   "metadata": {},
   "source": [
    "Esse foi o nosso primeiro decorador. Uma função que recebe outra como argumento, gera uma nova função aumentando o trabalho da função original e retorna a função gerada para que possamos usá-la em qualquer lugar.\n",
    "\n",
    "Para que bem_vindo() seja decorado por p_decorate() podemos redefini-la passando-a dentro do próprio decorador"
   ]
  },
  {
   "cell_type": "code",
   "execution_count": 8,
   "metadata": {},
   "outputs": [
    {
     "name": "stdout",
     "output_type": "stream",
     "text": [
      "<p>Olá Francisco, seja bem vindo ao nosso site!</p>\n"
     ]
    }
   ],
   "source": [
    "def bem_vindo(nome):\n",
    "    return \"Olá {}, seja bem vindo ao nosso site!\".format(nome)\n",
    "bem_vindo = p_decorate(bem_vindo)\n",
    "print(bem_vindo('Francisco'))"
   ]
  },
  {
   "cell_type": "markdown",
   "metadata": {},
   "source": [
    "Outra observação é que, como nossa função decorada recebe o argumento `\"nome\"`, tudo o que precisamos fazer no decorador é permitir que o invólucro de bem_vindo() receba e passe esse argumento para a função original."
   ]
  },
  {
   "cell_type": "markdown",
   "metadata": {},
   "source": [
    "## Sintaxe do decorador em Python #\n",
    "\n",
    "Python torna a criação e o uso de decoradores um agradável para o programador através de um **açúcar sintático**. Para decorar ``bem_vindo`` não temos que usar ``bem_vindo = p_decorator(bem_vindo)``. Há um atalho para isso, que é mencionar o nome da função decoradora antes da função a ser decorada com um símbolo @. Neste caso: ``@p_decorate``. "
   ]
  },
  {
   "cell_type": "code",
   "execution_count": 9,
   "metadata": {},
   "outputs": [
    {
     "name": "stdout",
     "output_type": "stream",
     "text": [
      "<p>Olá José, seja bem vindo ao nosso site!</p>\n"
     ]
    }
   ],
   "source": [
    "def p_decorador(func):\n",
    "    def func_modificada(nome):\n",
    "        return \"<p>{}</p>\".format(func(nome))\n",
    "    return func_modificada\n",
    "\n",
    "@p_decorador\n",
    "def bem_vindo(nome):\n",
    "    return \"Olá {}, seja bem vindo ao nosso site!\".format(nome)\n",
    "\n",
    "print(bem_vindo('José'))"
   ]
  },
  {
   "cell_type": "markdown",
   "metadata": {},
   "source": [
    "Agora sim, nosso \"decorator\" ficou com uma sintaxe mais interessante."
   ]
  },
  {
   "cell_type": "code",
   "execution_count": null,
   "metadata": {},
   "outputs": [],
   "source": []
  }
 ],
 "metadata": {
  "kernelspec": {
   "display_name": "Python 3",
   "language": "python",
   "name": "python3"
  },
  "language_info": {
   "codemirror_mode": {
    "name": "ipython",
    "version": 3
   },
   "file_extension": ".py",
   "mimetype": "text/x-python",
   "name": "python",
   "nbconvert_exporter": "python",
   "pygments_lexer": "ipython3",
   "version": "3.5.2"
  }
 },
 "nbformat": 4,
 "nbformat_minor": 1
}
