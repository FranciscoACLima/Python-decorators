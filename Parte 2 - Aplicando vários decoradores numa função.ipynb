{
 "cells": [
  {
   "cell_type": "markdown",
   "metadata": {},
   "source": [
    "## Aplicando mais de um decorador numa função#\n",
    "\n",
    "No exemplo abaixo, temos a função ``get_text`` decorada com ``@p_decorate`` que envolve o texto numa tag p."
   ]
  },
  {
   "cell_type": "code",
   "execution_count": 4,
   "metadata": {},
   "outputs": [
    {
     "name": "stdout",
     "output_type": "stream",
     "text": [
      "<p>Olá José, seja bem vindo ao nosso site!</p>\n"
     ]
    }
   ],
   "source": [
    "def p_decorate(func):\n",
    "    def func_wrapper(nome):\n",
    "        return \"<p>{}</p>\".format(func(nome))\n",
    "    return func_wrapper\n",
    "\n",
    "@p_decorate\n",
    "def get_text(nome):\n",
    "    return \"Olá {}, seja bem vindo ao nosso site!\".format(nome)\n",
    "\n",
    "print(bem_vindo('José'))"
   ]
  },
  {
   "cell_type": "markdown",
   "metadata": {},
   "source": [
    "Usando o **açúcar sintático @** podemos decorar a função com mais de um decorador. Considerem que queiramos decorar nossa função get_text, com outras 3 funções para envolver sua saída em uma **div**, numa tag **p** e em **strong**."
   ]
  },
  {
   "cell_type": "code",
   "execution_count": 13,
   "metadata": {},
   "outputs": [],
   "source": [
    "def strong_decorate(func):\n",
    "    def func_wrapper(nome):\n",
    "        return \"<strong>{0}</strong>\".format(func(nome))\n",
    "    return func_wrapper\n",
    "\n",
    "def div_decorate(func):\n",
    "    def func_wrapper(nome):\n",
    "        return \"<div>{0}</div>\".format(func(nome))\n",
    "    return func_wrapper"
   ]
  },
  {
   "cell_type": "markdown",
   "metadata": {},
   "source": [
    "Com a abordagem básica, decorar ``get_text`` com as 3 funções seria assim:"
   ]
  },
  {
   "cell_type": "code",
   "execution_count": 8,
   "metadata": {},
   "outputs": [
    {
     "name": "stdout",
     "output_type": "stream",
     "text": [
      "<div><p><strong><div><p><strong><p>Olá John, seja bem vindo ao nosso site!</p></strong></p></div></strong></p></div>\n"
     ]
    }
   ],
   "source": [
    "get_text = div_decorate(p_decorate(strong_decorate(get_text)))\n",
    "print (get_text(\"John\"))"
   ]
  },
  {
   "cell_type": "markdown",
   "metadata": {},
   "source": [
    "Com a sintaxe do decorador do Python, o mesmo pode ser alcançado de uma forma mais clara:"
   ]
  },
  {
   "cell_type": "code",
   "execution_count": 12,
   "metadata": {},
   "outputs": [
    {
     "name": "stdout",
     "output_type": "stream",
     "text": [
      "<div><p><strong>Olá John, seja bem vindo ao nosso site!</strong></p></div>\n"
     ]
    }
   ],
   "source": [
    "@div_decorate\n",
    "@p_decorate\n",
    "@strong_decorate\n",
    "def get_text(nome):\n",
    "    return \"Olá {}, seja bem vindo ao nosso site!\".format(nome)\n",
    "print (get_text(\"John\"))"
   ]
  },
  {
   "cell_type": "markdown",
   "metadata": {},
   "source": [
    "Uma coisa importante a observar é que a ordem dos nossos decoradores é importante. O primeiro decorador é o último a ser aplicado.\n",
    "\n",
    "Se, por exemplo, colocarmos ``@strong_decorate`` em primeiro, todo o texto restante é inserido dentro da tag strong."
   ]
  },
  {
   "cell_type": "code",
   "execution_count": 14,
   "metadata": {},
   "outputs": [
    {
     "name": "stdout",
     "output_type": "stream",
     "text": [
      "<strong><div><p>Olá John, seja bem vindo ao nosso site!</p></div></strong>\n"
     ]
    }
   ],
   "source": [
    "@strong_decorate\n",
    "@div_decorate\n",
    "@p_decorate\n",
    "def get_text(nome):\n",
    "    return \"Olá {}, seja bem vindo ao nosso site!\".format(nome)\n",
    "\n",
    "# Basicamente, o que está sendo feito com o decorador é:\n",
    "# get_text = div_decorate(p_decorate(strong_decorate(get_text)))\n",
    "\n",
    "print (get_text(\"John\"))"
   ]
  },
  {
   "cell_type": "code",
   "execution_count": null,
   "metadata": {},
   "outputs": [],
   "source": []
  }
 ],
 "metadata": {
  "kernelspec": {
   "display_name": "Python 3",
   "language": "python",
   "name": "python3"
  },
  "language_info": {
   "codemirror_mode": {
    "name": "ipython",
    "version": 3
   },
   "file_extension": ".py",
   "mimetype": "text/x-python",
   "name": "python",
   "nbconvert_exporter": "python",
   "pygments_lexer": "ipython3",
   "version": "3.6.3"
  }
 },
 "nbformat": 4,
 "nbformat_minor": 1
}
